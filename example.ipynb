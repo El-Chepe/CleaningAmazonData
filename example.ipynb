{
 "cells": [
  {
   "cell_type": "markdown",
   "metadata": {},
   "source": [
    "# Clean scraped amazon data with 'CleanAmazonData' package"
   ]
  },
  {
   "cell_type": "code",
   "execution_count": 1,
   "metadata": {},
   "outputs": [],
   "source": [
    "# Importing Libraries\n",
    "import pandas as pd\n",
    "import numpy as np \n",
    "import os\n",
    "\n",
    "from CleaningAmazonData import CleanDescriptionFile, CleanReviewFile\n"
   ]
  },
  {
   "cell_type": "code",
   "execution_count": 2,
   "metadata": {},
   "outputs": [
    {
     "data": {
      "text/plain": [
       "((2106, 22), (3155, 17))"
      ]
     },
     "execution_count": 2,
     "metadata": {},
     "output_type": "execute_result"
    }
   ],
   "source": [
    "# Creating dataframe for description and review table\n",
    "path = r'C:\\Users\\Lajar\\OneDrive\\CrowdDoing\\Research\\Revised_data\\Scrapy_Data'\n",
    "\n",
    "desc_df = pd.read_csv(os.path.join(path,'1_st_johns_wort_description.csv'))\n",
    "review_df = pd.read_csv(os.path.join(path,'1_st_johns_wort_review.csv'))\n",
    "\n",
    "desc_df.shape, review_df.shape"
   ]
  },
  {
   "cell_type": "markdown",
   "metadata": {},
   "source": [
    "## Cleaning Description file "
   ]
  },
  {
   "cell_type": "code",
   "execution_count": 3,
   "metadata": {},
   "outputs": [
    {
     "data": {
      "text/plain": [
       "ASIN                        0\n",
       "Domain                      0\n",
       "ExcludeTerm                 0\n",
       "ExclusionInProduct          0\n",
       "IngredientInProduct         0\n",
       "Keyword                     0\n",
       "KeywordDept                 0\n",
       "MatchTerm                   0\n",
       "ProductDescription          0\n",
       "ProductDirections        1794\n",
       "ProductFlavor               0\n",
       "ProductIngredientList    1129\n",
       "ProductLegal              459\n",
       "ProductLink                 0\n",
       "ProductName                 0\n",
       "ProductRatings              0\n",
       "ProductSafety            1861\n",
       "ProductStar                 0\n",
       "ProductSummary            343\n",
       "RetrievedTime               0\n",
       "ReviewsLink                 0\n",
       "UPC                         0\n",
       "dtype: int64"
      ]
     },
     "execution_count": 3,
     "metadata": {},
     "output_type": "execute_result"
    }
   ],
   "source": [
    "# Check for missing Value\n",
    "desc_df.isnull().sum()"
   ]
  },
  {
   "cell_type": "code",
   "execution_count": 4,
   "metadata": {},
   "outputs": [
    {
     "name": "stdout",
     "output_type": "stream",
     "text": [
      "2003    ref=sr_1_1158?dchild=1&keywords=st+johns+wort&...\n",
      "dtype: object\n"
     ]
    }
   ],
   "source": [
    "# Create instance of CleanDescriptionFile\n",
    "cdf = CleanDescriptionFile(check_ASIN = True, add_category = True)\n",
    "\n",
    "# Find invalid ASIN if any in description file \n",
    "invalid_ASIN = cdf.check_ASIN_validity(desc_df)"
   ]
  },
  {
   "cell_type": "markdown",
   "metadata": {},
   "source": [
    "Note: Analyse the invalid_ASIN array. Try to correct it if possible or remove rows. "
   ]
  },
  {
   "cell_type": "code",
   "execution_count": 5,
   "metadata": {},
   "outputs": [
    {
     "data": {
      "text/html": [
       "<div>\n",
       "<style scoped>\n",
       "    .dataframe tbody tr th:only-of-type {\n",
       "        vertical-align: middle;\n",
       "    }\n",
       "\n",
       "    .dataframe tbody tr th {\n",
       "        vertical-align: top;\n",
       "    }\n",
       "\n",
       "    .dataframe thead th {\n",
       "        text-align: right;\n",
       "    }\n",
       "</style>\n",
       "<table border=\"1\" class=\"dataframe\">\n",
       "  <thead>\n",
       "    <tr style=\"text-align: right;\">\n",
       "      <th></th>\n",
       "      <th>ASIN</th>\n",
       "      <th>Domain</th>\n",
       "      <th>ExcludeTerm</th>\n",
       "      <th>ExclusionInProduct</th>\n",
       "      <th>IngredientInProduct</th>\n",
       "      <th>Keyword</th>\n",
       "      <th>KeywordDept</th>\n",
       "      <th>MatchTerm</th>\n",
       "      <th>ProductDescription</th>\n",
       "      <th>ProductDirections</th>\n",
       "      <th>...</th>\n",
       "      <th>ProductLink</th>\n",
       "      <th>ProductName</th>\n",
       "      <th>ProductRatings</th>\n",
       "      <th>ProductSafety</th>\n",
       "      <th>ProductStar</th>\n",
       "      <th>ProductSummary</th>\n",
       "      <th>RetrievedTime</th>\n",
       "      <th>ReviewsLink</th>\n",
       "      <th>UPC</th>\n",
       "      <th>Category</th>\n",
       "    </tr>\n",
       "  </thead>\n",
       "  <tbody>\n",
       "    <tr>\n",
       "      <th>0</th>\n",
       "      <td>B06WWFMCL4</td>\n",
       "      <td>amazon.com</td>\n",
       "      <td>skin &amp; hair oil, no_exclusion_string</td>\n",
       "      <td>0</td>\n",
       "      <td>1</td>\n",
       "      <td>st johns wort</td>\n",
       "      <td>1</td>\n",
       "      <td>st johns wort, johns wort, john's wort</td>\n",
       "      <td>15 million Americans are affected by some form...</td>\n",
       "      <td>As a dietary supplement, take two (2) capsules...</td>\n",
       "      <td>...</td>\n",
       "      <td>/dp/B06WWFMCL4</td>\n",
       "      <td>Anti Anxiety Supplement 900mg With Gaba, L-The...</td>\n",
       "      <td>1,585</td>\n",
       "      <td>Not Available</td>\n",
       "      <td>4.4</td>\n",
       "      <td>Not Available</td>\n",
       "      <td>2020-06-15</td>\n",
       "      <td>/Supplement-L-Theanine-Ashwagandha-Magnesium-C...</td>\n",
       "      <td>No_UPC</td>\n",
       "      <td>supplement</td>\n",
       "    </tr>\n",
       "    <tr>\n",
       "      <th>1</th>\n",
       "      <td>B00GB85JR4</td>\n",
       "      <td>amazon.com</td>\n",
       "      <td>skin &amp; hair oil, no_exclusion_string</td>\n",
       "      <td>0</td>\n",
       "      <td>0</td>\n",
       "      <td>st johns wort</td>\n",
       "      <td>1</td>\n",
       "      <td>st johns wort, johns wort, john's wort</td>\n",
       "      <td>Vitamin D can be found in cells throughout the...</td>\n",
       "      <td>It's normal for gel capsules to get soft and s...</td>\n",
       "      <td>...</td>\n",
       "      <td>/dp/B00GB85JR4</td>\n",
       "      <td>NatureWise Vitamin D3 5,000 IU (1 Year Supply)...</td>\n",
       "      <td>17,059</td>\n",
       "      <td>Vitamin D toxicity can result from regular exc...</td>\n",
       "      <td>4.7</td>\n",
       "      <td>MOST ACTIVE FORM: NatureWise Vitamin D3 in cer...</td>\n",
       "      <td>2020-06-15</td>\n",
       "      <td>/NatureWise-Vitamin-Function-Cold-Pressed-Glut...</td>\n",
       "      <td>858081006042</td>\n",
       "      <td>oil</td>\n",
       "    </tr>\n",
       "  </tbody>\n",
       "</table>\n",
       "<p>2 rows × 23 columns</p>\n",
       "</div>"
      ],
      "text/plain": [
       "         ASIN      Domain                           ExcludeTerm  \\\n",
       "0  B06WWFMCL4  amazon.com  skin & hair oil, no_exclusion_string   \n",
       "1  B00GB85JR4  amazon.com  skin & hair oil, no_exclusion_string   \n",
       "\n",
       "   ExclusionInProduct  IngredientInProduct        Keyword  KeywordDept  \\\n",
       "0                   0                    1  st johns wort            1   \n",
       "1                   0                    0  st johns wort            1   \n",
       "\n",
       "                                MatchTerm  \\\n",
       "0  st johns wort, johns wort, john's wort   \n",
       "1  st johns wort, johns wort, john's wort   \n",
       "\n",
       "                                  ProductDescription  \\\n",
       "0  15 million Americans are affected by some form...   \n",
       "1  Vitamin D can be found in cells throughout the...   \n",
       "\n",
       "                                   ProductDirections  ...     ProductLink  \\\n",
       "0  As a dietary supplement, take two (2) capsules...  ...  /dp/B06WWFMCL4   \n",
       "1  It's normal for gel capsules to get soft and s...  ...  /dp/B00GB85JR4   \n",
       "\n",
       "                                         ProductName ProductRatings  \\\n",
       "0  Anti Anxiety Supplement 900mg With Gaba, L-The...          1,585   \n",
       "1  NatureWise Vitamin D3 5,000 IU (1 Year Supply)...         17,059   \n",
       "\n",
       "                                       ProductSafety ProductStar  \\\n",
       "0                                      Not Available         4.4   \n",
       "1  Vitamin D toxicity can result from regular exc...         4.7   \n",
       "\n",
       "                                      ProductSummary RetrievedTime  \\\n",
       "0                                      Not Available    2020-06-15   \n",
       "1  MOST ACTIVE FORM: NatureWise Vitamin D3 in cer...    2020-06-15   \n",
       "\n",
       "                                         ReviewsLink           UPC    Category  \n",
       "0  /Supplement-L-Theanine-Ashwagandha-Magnesium-C...        No_UPC  supplement  \n",
       "1  /NatureWise-Vitamin-Function-Cold-Pressed-Glut...  858081006042         oil  \n",
       "\n",
       "[2 rows x 23 columns]"
      ]
     },
     "execution_count": 5,
     "metadata": {},
     "output_type": "execute_result"
    }
   ],
   "source": [
    "# transform raw description df to cleaned and featured df \n",
    "cleaned_desc_df = cdf.transform(desc_df)\n",
    "cleaned_desc_df.head(2)"
   ]
  },
  {
   "cell_type": "markdown",
   "metadata": {},
   "source": [
    "Note: Resulting dataframe is cleaned dataframe with feature included 'Category'"
   ]
  },
  {
   "cell_type": "code",
   "execution_count": 6,
   "metadata": {},
   "outputs": [
    {
     "data": {
      "text/plain": [
       "(1928, 23)"
      ]
     },
     "execution_count": 6,
     "metadata": {},
     "output_type": "execute_result"
    }
   ],
   "source": [
    "cleaned_desc_df.shape"
   ]
  },
  {
   "cell_type": "code",
   "execution_count": 7,
   "metadata": {},
   "outputs": [
    {
     "data": {
      "text/plain": [
       "ASIN                     0\n",
       "Domain                   0\n",
       "ExcludeTerm              0\n",
       "ExclusionInProduct       0\n",
       "IngredientInProduct      0\n",
       "Keyword                  0\n",
       "KeywordDept              0\n",
       "MatchTerm                0\n",
       "ProductDescription       0\n",
       "ProductDirections        0\n",
       "ProductFlavor            0\n",
       "ProductIngredientList    0\n",
       "ProductLegal             0\n",
       "ProductLink              0\n",
       "ProductName              0\n",
       "ProductRatings           0\n",
       "ProductSafety            0\n",
       "ProductStar              0\n",
       "ProductSummary           0\n",
       "RetrievedTime            0\n",
       "ReviewsLink              0\n",
       "UPC                      0\n",
       "Category                 0\n",
       "dtype: int64"
      ]
     },
     "execution_count": 7,
     "metadata": {},
     "output_type": "execute_result"
    }
   ],
   "source": [
    "cleaned_desc_df.isnull().sum()"
   ]
  },
  {
   "cell_type": "markdown",
   "metadata": {},
   "source": [
    "## Cleaning Review File"
   ]
  },
  {
   "cell_type": "code",
   "execution_count": 8,
   "metadata": {},
   "outputs": [
    {
     "name": "stdout",
     "output_type": "stream",
     "text": [
      "Series([], dtype: object)\n"
     ]
    }
   ],
   "source": [
    "# Create instance of CleanReviewFile\n",
    "crf = CleanReviewFile(check_ASIN = True, add_ProcessedText = True)\n",
    "\n",
    "# Check for invalid ASIN if any\n",
    "invalid_ASIN = crf.check_ASIN_validity(review_df)"
   ]
  },
  {
   "cell_type": "code",
   "execution_count": 9,
   "metadata": {
    "scrolled": true
   },
   "outputs": [],
   "source": [
    "# trnsform raw review_df to cleaned_review_df with additional feature 'ProcessedText'\n",
    "cleaned_review_df = crf.transform(review_df)"
   ]
  },
  {
   "cell_type": "code",
   "execution_count": 10,
   "metadata": {},
   "outputs": [
    {
     "data": {
      "text/plain": [
       "0       go start review tell recover addict alcoholic ...\n",
       "1       wanna cry even tell u much help use benzoyl pe...\n",
       "2       take daily year positive impact overall mood j...\n",
       "3       wait week post make sure though saw improvemen...\n",
       "4       product life saver since break prescription cy...\n",
       "                              ...                        \n",
       "3150    exactly need brand guarantee potency take edge...\n",
       "3151                               perfect help attention\n",
       "3152    like burt be products pricey mainly healthy in...\n",
       "3153        take three months still feel effect relax say\n",
       "3154    best st johns wort oil beat second best long d...\n",
       "Name: ProcessedText, Length: 3155, dtype: object"
      ]
     },
     "execution_count": 10,
     "metadata": {},
     "output_type": "execute_result"
    }
   ],
   "source": [
    "cleaned_review_df.ProcessedText"
   ]
  },
  {
   "cell_type": "markdown",
   "metadata": {},
   "source": [
    "## Integration in sklearn pipeline"
   ]
  },
  {
   "cell_type": "code",
   "execution_count": 11,
   "metadata": {},
   "outputs": [
    {
     "data": {
      "text/html": [
       "<div>\n",
       "<style scoped>\n",
       "    .dataframe tbody tr th:only-of-type {\n",
       "        vertical-align: middle;\n",
       "    }\n",
       "\n",
       "    .dataframe tbody tr th {\n",
       "        vertical-align: top;\n",
       "    }\n",
       "\n",
       "    .dataframe thead th {\n",
       "        text-align: right;\n",
       "    }\n",
       "</style>\n",
       "<table border=\"1\" class=\"dataframe\">\n",
       "  <thead>\n",
       "    <tr style=\"text-align: right;\">\n",
       "      <th></th>\n",
       "      <th>ASIN</th>\n",
       "      <th>Domain</th>\n",
       "      <th>ExcludeTerm</th>\n",
       "      <th>ExclusionInProduct</th>\n",
       "      <th>IngredientInProduct</th>\n",
       "      <th>Keyword</th>\n",
       "      <th>KeywordDept</th>\n",
       "      <th>MatchTerm</th>\n",
       "      <th>ProductDescription</th>\n",
       "      <th>ProductDirections</th>\n",
       "      <th>...</th>\n",
       "      <th>ProductLink</th>\n",
       "      <th>ProductName</th>\n",
       "      <th>ProductRatings</th>\n",
       "      <th>ProductSafety</th>\n",
       "      <th>ProductStar</th>\n",
       "      <th>ProductSummary</th>\n",
       "      <th>RetrievedTime</th>\n",
       "      <th>ReviewsLink</th>\n",
       "      <th>UPC</th>\n",
       "      <th>Category</th>\n",
       "    </tr>\n",
       "  </thead>\n",
       "  <tbody>\n",
       "    <tr>\n",
       "      <th>0</th>\n",
       "      <td>B06WWFMCL4</td>\n",
       "      <td>amazon.com</td>\n",
       "      <td>skin &amp; hair oil, no_exclusion_string</td>\n",
       "      <td>0</td>\n",
       "      <td>1</td>\n",
       "      <td>st johns wort</td>\n",
       "      <td>1</td>\n",
       "      <td>st johns wort, johns wort, john's wort</td>\n",
       "      <td>15 million Americans are affected by some form...</td>\n",
       "      <td>As a dietary supplement, take two (2) capsules...</td>\n",
       "      <td>...</td>\n",
       "      <td>/dp/B06WWFMCL4</td>\n",
       "      <td>Anti Anxiety Supplement 900mg With Gaba, L-The...</td>\n",
       "      <td>1,585</td>\n",
       "      <td>Not Available</td>\n",
       "      <td>4.4</td>\n",
       "      <td>Not Available</td>\n",
       "      <td>2020-06-15</td>\n",
       "      <td>/Supplement-L-Theanine-Ashwagandha-Magnesium-C...</td>\n",
       "      <td>No_UPC</td>\n",
       "      <td>supplement</td>\n",
       "    </tr>\n",
       "    <tr>\n",
       "      <th>1</th>\n",
       "      <td>B00GB85JR4</td>\n",
       "      <td>amazon.com</td>\n",
       "      <td>skin &amp; hair oil, no_exclusion_string</td>\n",
       "      <td>0</td>\n",
       "      <td>0</td>\n",
       "      <td>st johns wort</td>\n",
       "      <td>1</td>\n",
       "      <td>st johns wort, johns wort, john's wort</td>\n",
       "      <td>Vitamin D can be found in cells throughout the...</td>\n",
       "      <td>It's normal for gel capsules to get soft and s...</td>\n",
       "      <td>...</td>\n",
       "      <td>/dp/B00GB85JR4</td>\n",
       "      <td>NatureWise Vitamin D3 5,000 IU (1 Year Supply)...</td>\n",
       "      <td>17,059</td>\n",
       "      <td>Vitamin D toxicity can result from regular exc...</td>\n",
       "      <td>4.7</td>\n",
       "      <td>MOST ACTIVE FORM: NatureWise Vitamin D3 in cer...</td>\n",
       "      <td>2020-06-15</td>\n",
       "      <td>/NatureWise-Vitamin-Function-Cold-Pressed-Glut...</td>\n",
       "      <td>858081006042</td>\n",
       "      <td>oil</td>\n",
       "    </tr>\n",
       "  </tbody>\n",
       "</table>\n",
       "<p>2 rows × 23 columns</p>\n",
       "</div>"
      ],
      "text/plain": [
       "         ASIN      Domain                           ExcludeTerm  \\\n",
       "0  B06WWFMCL4  amazon.com  skin & hair oil, no_exclusion_string   \n",
       "1  B00GB85JR4  amazon.com  skin & hair oil, no_exclusion_string   \n",
       "\n",
       "   ExclusionInProduct  IngredientInProduct        Keyword  KeywordDept  \\\n",
       "0                   0                    1  st johns wort            1   \n",
       "1                   0                    0  st johns wort            1   \n",
       "\n",
       "                                MatchTerm  \\\n",
       "0  st johns wort, johns wort, john's wort   \n",
       "1  st johns wort, johns wort, john's wort   \n",
       "\n",
       "                                  ProductDescription  \\\n",
       "0  15 million Americans are affected by some form...   \n",
       "1  Vitamin D can be found in cells throughout the...   \n",
       "\n",
       "                                   ProductDirections  ...     ProductLink  \\\n",
       "0  As a dietary supplement, take two (2) capsules...  ...  /dp/B06WWFMCL4   \n",
       "1  It's normal for gel capsules to get soft and s...  ...  /dp/B00GB85JR4   \n",
       "\n",
       "                                         ProductName ProductRatings  \\\n",
       "0  Anti Anxiety Supplement 900mg With Gaba, L-The...          1,585   \n",
       "1  NatureWise Vitamin D3 5,000 IU (1 Year Supply)...         17,059   \n",
       "\n",
       "                                       ProductSafety ProductStar  \\\n",
       "0                                      Not Available         4.4   \n",
       "1  Vitamin D toxicity can result from regular exc...         4.7   \n",
       "\n",
       "                                      ProductSummary RetrievedTime  \\\n",
       "0                                      Not Available    2020-06-15   \n",
       "1  MOST ACTIVE FORM: NatureWise Vitamin D3 in cer...    2020-06-15   \n",
       "\n",
       "                                         ReviewsLink           UPC    Category  \n",
       "0  /Supplement-L-Theanine-Ashwagandha-Magnesium-C...        No_UPC  supplement  \n",
       "1  /NatureWise-Vitamin-Function-Cold-Pressed-Glut...  858081006042         oil  \n",
       "\n",
       "[2 rows x 23 columns]"
      ]
     },
     "execution_count": 11,
     "metadata": {},
     "output_type": "execute_result"
    }
   ],
   "source": [
    "from sklearn.pipeline import Pipeline\n",
    "pipe = Pipeline([('CleanDescriptionFile',CleanDescriptionFile(check_ASIN = True, add_category = True))])\n",
    "\n",
    "df = pipe.transform(desc_df) # pipe.fit_transform(desc_df)\n",
    "df.head(2)\n",
    "            "
   ]
  },
  {
   "cell_type": "code",
   "execution_count": 12,
   "metadata": {},
   "outputs": [
    {
     "data": {
      "text/html": [
       "<div>\n",
       "<style scoped>\n",
       "    .dataframe tbody tr th:only-of-type {\n",
       "        vertical-align: middle;\n",
       "    }\n",
       "\n",
       "    .dataframe tbody tr th {\n",
       "        vertical-align: top;\n",
       "    }\n",
       "\n",
       "    .dataframe thead th {\n",
       "        text-align: right;\n",
       "    }\n",
       "</style>\n",
       "<table border=\"1\" class=\"dataframe\">\n",
       "  <thead>\n",
       "    <tr style=\"text-align: right;\">\n",
       "      <th></th>\n",
       "      <th>ASIN</th>\n",
       "      <th>ProductFlavor</th>\n",
       "      <th>ProductName</th>\n",
       "      <th>ProductNumReviews</th>\n",
       "      <th>RetrievedTime</th>\n",
       "      <th>ReviewContent</th>\n",
       "      <th>ReviewDomain</th>\n",
       "      <th>ReviewEarly</th>\n",
       "      <th>ReviewHelpful</th>\n",
       "      <th>ReviewId</th>\n",
       "      <th>ReviewLink</th>\n",
       "      <th>ReviewStar</th>\n",
       "      <th>ReviewTime</th>\n",
       "      <th>ReviewVerifiedP</th>\n",
       "      <th>ReviewVine</th>\n",
       "      <th>ReviewersId</th>\n",
       "      <th>ReviewersName</th>\n",
       "      <th>ProcessedText</th>\n",
       "    </tr>\n",
       "  </thead>\n",
       "  <tbody>\n",
       "    <tr>\n",
       "      <th>0</th>\n",
       "      <td>B06WWFMCL4</td>\n",
       "      <td>Flavor_absent</td>\n",
       "      <td>Anti Anxiety Supplement 900mg With Gaba, L-The...</td>\n",
       "      <td>1261</td>\n",
       "      <td>2020-06-15</td>\n",
       "      <td>I'm going to start this review off by telling ...</td>\n",
       "      <td>amazon.com</td>\n",
       "      <td>0</td>\n",
       "      <td>401</td>\n",
       "      <td>R2RJ5OR56K5DHU</td>\n",
       "      <td>/gp/customer-reviews/R2RJ5OR56K5DHU</td>\n",
       "      <td>5.0</td>\n",
       "      <td>September 2, 2017</td>\n",
       "      <td>1</td>\n",
       "      <td>0</td>\n",
       "      <td>AFBKKDU4G53WEK6QYDQRHLDWZWKQ</td>\n",
       "      <td>Taylor</td>\n",
       "      <td>go start review tell recover addict alcoholic ...</td>\n",
       "    </tr>\n",
       "    <tr>\n",
       "      <th>1</th>\n",
       "      <td>B0747Y61RC</td>\n",
       "      <td>Flavor_absent</td>\n",
       "      <td>Tea Tree Oil Face Cream - For Oily, Acne Prone...</td>\n",
       "      <td>1452</td>\n",
       "      <td>2020-06-15</td>\n",
       "      <td>I wanna cry!! I can’t even tell u how much thi...</td>\n",
       "      <td>amazon.com</td>\n",
       "      <td>0</td>\n",
       "      <td>354</td>\n",
       "      <td>RFGDEBCH8X5LS</td>\n",
       "      <td>/gp/customer-reviews/RFGDEBCH8X5LS</td>\n",
       "      <td>5.0</td>\n",
       "      <td>December 24, 2017</td>\n",
       "      <td>1</td>\n",
       "      <td>0</td>\n",
       "      <td>AGQ3A6LSSR7SKT3RQ5B5725WXL5A</td>\n",
       "      <td>Izzy</td>\n",
       "      <td>wanna cry even tell u much help use benzoyl pe...</td>\n",
       "    </tr>\n",
       "  </tbody>\n",
       "</table>\n",
       "</div>"
      ],
      "text/plain": [
       "         ASIN  ProductFlavor  \\\n",
       "0  B06WWFMCL4  Flavor_absent   \n",
       "1  B0747Y61RC  Flavor_absent   \n",
       "\n",
       "                                         ProductName  ProductNumReviews  \\\n",
       "0  Anti Anxiety Supplement 900mg With Gaba, L-The...               1261   \n",
       "1  Tea Tree Oil Face Cream - For Oily, Acne Prone...               1452   \n",
       "\n",
       "  RetrievedTime                                      ReviewContent  \\\n",
       "0    2020-06-15  I'm going to start this review off by telling ...   \n",
       "1    2020-06-15  I wanna cry!! I can’t even tell u how much thi...   \n",
       "\n",
       "  ReviewDomain  ReviewEarly  ReviewHelpful        ReviewId  \\\n",
       "0   amazon.com            0            401  R2RJ5OR56K5DHU   \n",
       "1   amazon.com            0            354   RFGDEBCH8X5LS   \n",
       "\n",
       "                            ReviewLink  ReviewStar         ReviewTime  \\\n",
       "0  /gp/customer-reviews/R2RJ5OR56K5DHU         5.0  September 2, 2017   \n",
       "1   /gp/customer-reviews/RFGDEBCH8X5LS         5.0  December 24, 2017   \n",
       "\n",
       "   ReviewVerifiedP  ReviewVine                   ReviewersId ReviewersName  \\\n",
       "0                1           0  AFBKKDU4G53WEK6QYDQRHLDWZWKQ        Taylor   \n",
       "1                1           0  AGQ3A6LSSR7SKT3RQ5B5725WXL5A          Izzy   \n",
       "\n",
       "                                       ProcessedText  \n",
       "0  go start review tell recover addict alcoholic ...  \n",
       "1  wanna cry even tell u much help use benzoyl pe...  "
      ]
     },
     "execution_count": 12,
     "metadata": {},
     "output_type": "execute_result"
    }
   ],
   "source": [
    "pipe = Pipeline([('CleanReviewFile',CleanReviewFile(check_ASIN = True, add_ProcessedText = True))])\n",
    "\n",
    "df = pipe.transform(review_df) # pipe.fit_transform(desc_df)\n",
    "df.head(2)"
   ]
  }
 ],
 "metadata": {
  "kernelspec": {
   "display_name": "Python 3",
   "language": "python",
   "name": "python3"
  },
  "language_info": {
   "codemirror_mode": {
    "name": "ipython",
    "version": 3
   },
   "file_extension": ".py",
   "mimetype": "text/x-python",
   "name": "python",
   "nbconvert_exporter": "python",
   "pygments_lexer": "ipython3",
   "version": "3.7.6"
  }
 },
 "nbformat": 4,
 "nbformat_minor": 4
}
