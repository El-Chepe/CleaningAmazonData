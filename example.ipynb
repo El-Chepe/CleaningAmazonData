{
 "cells": [
  {
   "cell_type": "markdown",
   "metadata": {},
   "source": [
    "# Clean scraped amazon data with 'CleanAmazonData' package"
   ]
  },
  {
   "cell_type": "code",
   "execution_count": 1,
   "metadata": {},
   "outputs": [],
   "source": [
    "# Importing Libraries\n",
    "import pandas as pd\n",
    "import numpy as np \n",
    "import os\n",
    "\n",
    "from CleaningAmazonData import CleanDescriptionFile, CleanReviewFile\n"
   ]
  },
  {
   "cell_type": "code",
   "execution_count": 2,
   "metadata": {},
   "outputs": [
    {
     "data": {
      "text/plain": [
       "((2106, 22), (3155, 17))"
      ]
     },
     "execution_count": 2,
     "metadata": {},
     "output_type": "execute_result"
    }
   ],
   "source": [
    "# Creating dataframe for description and review table\n",
    "path = r'C:\\Users\\Lajar\\OneDrive\\CrowdDoing\\Research\\Revised_data\\Scrapy_Data'\n",
    "\n",
    "desc_df = pd.read_csv(os.path.join(path,'1_st_johns_wort_description.csv'))\n",
    "review_df = pd.read_csv(os.path.join(path,'1_st_johns_wort_review.csv'))\n",
    "\n",
    "desc_df.shape, review_df.shape"
   ]
  },
  {
   "cell_type": "markdown",
   "metadata": {},
   "source": [
    "## Cleaning Description file "
   ]
  },
  {
   "cell_type": "code",
   "execution_count": 3,
   "metadata": {},
   "outputs": [
    {
     "data": {
      "text/plain": [
       "ASIN                        0\n",
       "Domain                      0\n",
       "ExcludeTerm                 0\n",
       "ExclusionInProduct          0\n",
       "IngredientInProduct         0\n",
       "Keyword                     0\n",
       "KeywordDept                 0\n",
       "MatchTerm                   0\n",
       "ProductDescription          0\n",
       "ProductDirections        1794\n",
       "ProductFlavor               0\n",
       "ProductIngredientList    1129\n",
       "ProductLegal              459\n",
       "ProductLink                 0\n",
       "ProductName                 0\n",
       "ProductRatings              0\n",
       "ProductSafety            1861\n",
       "ProductStar                 0\n",
       "ProductSummary            343\n",
       "RetrievedTime               0\n",
       "ReviewsLink                 0\n",
       "UPC                         0\n",
       "dtype: int64"
      ]
     },
     "execution_count": 3,
     "metadata": {},
     "output_type": "execute_result"
    }
   ],
   "source": [
    "desc_df.isnull().sum()"
   ]
  },
  {
   "cell_type": "code",
   "execution_count": 4,
   "metadata": {},
   "outputs": [
    {
     "name": "stdout",
     "output_type": "stream",
     "text": [
      "2003    ref=sr_1_1158?dchild=1&keywords=st+johns+wort&...\n",
      "dtype: object\n"
     ]
    }
   ],
   "source": [
    "# Create instance of CleanDescriptionFile\n",
    "cdf = CleanDescriptionFile(check_ASIN = True)\n",
    "\n",
    "# Find invalid ASIN if any in description file \n",
    "invalid_ASIN = cdf.check_ASIN_validity(desc_df)"
   ]
  },
  {
   "cell_type": "markdown",
   "metadata": {},
   "source": [
    "Note: Analyse the invalid_ASIN array. Try to correct it if possible or remove rows. "
   ]
  },
  {
   "cell_type": "code",
   "execution_count": 5,
   "metadata": {},
   "outputs": [
    {
     "data": {
      "text/html": [
       "<div>\n",
       "<style scoped>\n",
       "    .dataframe tbody tr th:only-of-type {\n",
       "        vertical-align: middle;\n",
       "    }\n",
       "\n",
       "    .dataframe tbody tr th {\n",
       "        vertical-align: top;\n",
       "    }\n",
       "\n",
       "    .dataframe thead th {\n",
       "        text-align: right;\n",
       "    }\n",
       "</style>\n",
       "<table border=\"1\" class=\"dataframe\">\n",
       "  <thead>\n",
       "    <tr style=\"text-align: right;\">\n",
       "      <th></th>\n",
       "      <th>ASIN</th>\n",
       "      <th>Domain</th>\n",
       "      <th>ExcludeTerm</th>\n",
       "      <th>ExclusionInProduct</th>\n",
       "      <th>IngredientInProduct</th>\n",
       "      <th>Keyword</th>\n",
       "      <th>KeywordDept</th>\n",
       "      <th>MatchTerm</th>\n",
       "      <th>ProductDescription</th>\n",
       "      <th>ProductDirections</th>\n",
       "      <th>...</th>\n",
       "      <th>ProductName</th>\n",
       "      <th>ProductRatings</th>\n",
       "      <th>ProductSafety</th>\n",
       "      <th>ProductStar</th>\n",
       "      <th>ProductSummary</th>\n",
       "      <th>RetrievedTime</th>\n",
       "      <th>ReviewsLink</th>\n",
       "      <th>UPC</th>\n",
       "      <th>RetrivedTime</th>\n",
       "      <th>Category</th>\n",
       "    </tr>\n",
       "  </thead>\n",
       "  <tbody>\n",
       "    <tr>\n",
       "      <th>0</th>\n",
       "      <td>B06WWFMCL4</td>\n",
       "      <td>amazon.com</td>\n",
       "      <td>skin &amp; hair oil, no_exclusion_string</td>\n",
       "      <td>0</td>\n",
       "      <td>1</td>\n",
       "      <td>st johns wort</td>\n",
       "      <td>1</td>\n",
       "      <td>st johns wort, johns wort, john's wort</td>\n",
       "      <td>15 million Americans are affected by some form...</td>\n",
       "      <td>As a dietary supplement, take two (2) capsules...</td>\n",
       "      <td>...</td>\n",
       "      <td>Anti Anxiety Supplement 900mg With Gaba, L-The...</td>\n",
       "      <td>1,585</td>\n",
       "      <td>Not Available</td>\n",
       "      <td>4.4</td>\n",
       "      <td>Not Available</td>\n",
       "      <td>2020-06-15</td>\n",
       "      <td>/Supplement-L-Theanine-Ashwagandha-Magnesium-C...</td>\n",
       "      <td>No_UPC</td>\n",
       "      <td>2020-06-15</td>\n",
       "      <td>supplement</td>\n",
       "    </tr>\n",
       "    <tr>\n",
       "      <th>1</th>\n",
       "      <td>B00GB85JR4</td>\n",
       "      <td>amazon.com</td>\n",
       "      <td>skin &amp; hair oil, no_exclusion_string</td>\n",
       "      <td>0</td>\n",
       "      <td>0</td>\n",
       "      <td>st johns wort</td>\n",
       "      <td>1</td>\n",
       "      <td>st johns wort, johns wort, john's wort</td>\n",
       "      <td>Vitamin D can be found in cells throughout the...</td>\n",
       "      <td>It's normal for gel capsules to get soft and s...</td>\n",
       "      <td>...</td>\n",
       "      <td>NatureWise Vitamin D3 5,000 IU (1 Year Supply)...</td>\n",
       "      <td>17,059</td>\n",
       "      <td>Vitamin D toxicity can result from regular exc...</td>\n",
       "      <td>4.7</td>\n",
       "      <td>MOST ACTIVE FORM: NatureWise Vitamin D3 in cer...</td>\n",
       "      <td>2020-06-15</td>\n",
       "      <td>/NatureWise-Vitamin-Function-Cold-Pressed-Glut...</td>\n",
       "      <td>858081006042</td>\n",
       "      <td>2020-06-15</td>\n",
       "      <td>oil</td>\n",
       "    </tr>\n",
       "    <tr>\n",
       "      <th>2</th>\n",
       "      <td>B06XC9CZWN</td>\n",
       "      <td>amazon.com</td>\n",
       "      <td>skin &amp; hair oil, no_exclusion_string</td>\n",
       "      <td>0</td>\n",
       "      <td>0</td>\n",
       "      <td>st johns wort</td>\n",
       "      <td>1</td>\n",
       "      <td>st johns wort, johns wort, john's wort</td>\n",
       "      <td>Our goal is to help you be the best version of...</td>\n",
       "      <td>Not Available</td>\n",
       "      <td>...</td>\n",
       "      <td>Havasu Nutrition Ashwagandha Capsules Formulat...</td>\n",
       "      <td>1,760</td>\n",
       "      <td>These statements have not been evaluated by th...</td>\n",
       "      <td>4.4</td>\n",
       "      <td>PREMIUM STRESS FIGHTER - Our natural Ashwagand...</td>\n",
       "      <td>2020-06-15</td>\n",
       "      <td>/Havasu-Nutrition-Premium-Ashwagandha-1000mg/p...</td>\n",
       "      <td>045924591333</td>\n",
       "      <td>2020-06-15</td>\n",
       "      <td>tablet</td>\n",
       "    </tr>\n",
       "    <tr>\n",
       "      <th>3</th>\n",
       "      <td>B00TO7J3KS</td>\n",
       "      <td>amazon.com</td>\n",
       "      <td>skin &amp; hair oil, no_exclusion_string</td>\n",
       "      <td>0</td>\n",
       "      <td>0</td>\n",
       "      <td>st johns wort</td>\n",
       "      <td>1</td>\n",
       "      <td>st johns wort, johns wort, john's wort</td>\n",
       "      <td>5-HTP is a precursor to the neurotransmitter s...</td>\n",
       "      <td>Not Available</td>\n",
       "      <td>...</td>\n",
       "      <td>NatureWise 5-HTP 100mg | Natural Mood &amp; Sleep ...</td>\n",
       "      <td>1,500</td>\n",
       "      <td>This product is labelled to United States stan...</td>\n",
       "      <td>4.5</td>\n",
       "      <td>Designed to give an added boost to your weight...</td>\n",
       "      <td>2020-06-15</td>\n",
       "      <td>/NatureWise-Appetite-Enhanced-Vegetarian-Packa...</td>\n",
       "      <td>858081006097</td>\n",
       "      <td>2020-06-15</td>\n",
       "      <td>other</td>\n",
       "    </tr>\n",
       "    <tr>\n",
       "      <th>4</th>\n",
       "      <td>B06ZYHJYD5</td>\n",
       "      <td>amazon.com</td>\n",
       "      <td>skin &amp; hair oil, no_exclusion_string</td>\n",
       "      <td>0</td>\n",
       "      <td>0</td>\n",
       "      <td>st johns wort</td>\n",
       "      <td>1</td>\n",
       "      <td>st johns wort, johns wort, john's wort</td>\n",
       "      <td>delivers 2100 mg per serving of organic ashwag...</td>\n",
       "      <td>Not Available</td>\n",
       "      <td>...</td>\n",
       "      <td>Organic Ashwagandha 2,100 mg - 100 Vegan Capsu...</td>\n",
       "      <td>3,794</td>\n",
       "      <td>Not Available</td>\n",
       "      <td>4.5</td>\n",
       "      <td>Not Available</td>\n",
       "      <td>2020-06-15</td>\n",
       "      <td>/Organic-Ashwagandha-1300mg-Capsules-Enhancer/...</td>\n",
       "      <td>804540020746</td>\n",
       "      <td>2020-06-15</td>\n",
       "      <td>tablet</td>\n",
       "    </tr>\n",
       "  </tbody>\n",
       "</table>\n",
       "<p>5 rows × 24 columns</p>\n",
       "</div>"
      ],
      "text/plain": [
       "         ASIN      Domain                           ExcludeTerm  \\\n",
       "0  B06WWFMCL4  amazon.com  skin & hair oil, no_exclusion_string   \n",
       "1  B00GB85JR4  amazon.com  skin & hair oil, no_exclusion_string   \n",
       "2  B06XC9CZWN  amazon.com  skin & hair oil, no_exclusion_string   \n",
       "3  B00TO7J3KS  amazon.com  skin & hair oil, no_exclusion_string   \n",
       "4  B06ZYHJYD5  amazon.com  skin & hair oil, no_exclusion_string   \n",
       "\n",
       "   ExclusionInProduct  IngredientInProduct        Keyword  KeywordDept  \\\n",
       "0                   0                    1  st johns wort            1   \n",
       "1                   0                    0  st johns wort            1   \n",
       "2                   0                    0  st johns wort            1   \n",
       "3                   0                    0  st johns wort            1   \n",
       "4                   0                    0  st johns wort            1   \n",
       "\n",
       "                                MatchTerm  \\\n",
       "0  st johns wort, johns wort, john's wort   \n",
       "1  st johns wort, johns wort, john's wort   \n",
       "2  st johns wort, johns wort, john's wort   \n",
       "3  st johns wort, johns wort, john's wort   \n",
       "4  st johns wort, johns wort, john's wort   \n",
       "\n",
       "                                  ProductDescription  \\\n",
       "0  15 million Americans are affected by some form...   \n",
       "1  Vitamin D can be found in cells throughout the...   \n",
       "2  Our goal is to help you be the best version of...   \n",
       "3  5-HTP is a precursor to the neurotransmitter s...   \n",
       "4  delivers 2100 mg per serving of organic ashwag...   \n",
       "\n",
       "                                   ProductDirections  ...  \\\n",
       "0  As a dietary supplement, take two (2) capsules...  ...   \n",
       "1  It's normal for gel capsules to get soft and s...  ...   \n",
       "2                                      Not Available  ...   \n",
       "3                                      Not Available  ...   \n",
       "4                                      Not Available  ...   \n",
       "\n",
       "                                         ProductName ProductRatings  \\\n",
       "0  Anti Anxiety Supplement 900mg With Gaba, L-The...          1,585   \n",
       "1  NatureWise Vitamin D3 5,000 IU (1 Year Supply)...         17,059   \n",
       "2  Havasu Nutrition Ashwagandha Capsules Formulat...          1,760   \n",
       "3  NatureWise 5-HTP 100mg | Natural Mood & Sleep ...          1,500   \n",
       "4  Organic Ashwagandha 2,100 mg - 100 Vegan Capsu...          3,794   \n",
       "\n",
       "                                       ProductSafety ProductStar  \\\n",
       "0                                      Not Available         4.4   \n",
       "1  Vitamin D toxicity can result from regular exc...         4.7   \n",
       "2  These statements have not been evaluated by th...         4.4   \n",
       "3  This product is labelled to United States stan...         4.5   \n",
       "4                                      Not Available         4.5   \n",
       "\n",
       "                                      ProductSummary RetrievedTime  \\\n",
       "0                                      Not Available    2020-06-15   \n",
       "1  MOST ACTIVE FORM: NatureWise Vitamin D3 in cer...    2020-06-15   \n",
       "2  PREMIUM STRESS FIGHTER - Our natural Ashwagand...    2020-06-15   \n",
       "3  Designed to give an added boost to your weight...    2020-06-15   \n",
       "4                                      Not Available    2020-06-15   \n",
       "\n",
       "                                         ReviewsLink           UPC  \\\n",
       "0  /Supplement-L-Theanine-Ashwagandha-Magnesium-C...        No_UPC   \n",
       "1  /NatureWise-Vitamin-Function-Cold-Pressed-Glut...  858081006042   \n",
       "2  /Havasu-Nutrition-Premium-Ashwagandha-1000mg/p...  045924591333   \n",
       "3  /NatureWise-Appetite-Enhanced-Vegetarian-Packa...  858081006097   \n",
       "4  /Organic-Ashwagandha-1300mg-Capsules-Enhancer/...  804540020746   \n",
       "\n",
       "  RetrivedTime    Category  \n",
       "0   2020-06-15  supplement  \n",
       "1   2020-06-15         oil  \n",
       "2   2020-06-15      tablet  \n",
       "3   2020-06-15       other  \n",
       "4   2020-06-15      tablet  \n",
       "\n",
       "[5 rows x 24 columns]"
      ]
     },
     "execution_count": 5,
     "metadata": {},
     "output_type": "execute_result"
    }
   ],
   "source": [
    "# transform raw description df to cleaned and featured df \n",
    "cleaned_desc_df = cdf.transform(desc_df)\n",
    "cleaned_desc_df.head()"
   ]
  },
  {
   "cell_type": "markdown",
   "metadata": {},
   "source": [
    "Note: Resulting dataframe is cleaned dataframe with feature included 'Category'"
   ]
  },
  {
   "cell_type": "code",
   "execution_count": 6,
   "metadata": {},
   "outputs": [
    {
     "data": {
      "text/plain": [
       "(1928, 24)"
      ]
     },
     "execution_count": 6,
     "metadata": {},
     "output_type": "execute_result"
    }
   ],
   "source": [
    "cleaned_desc_df.shape"
   ]
  },
  {
   "cell_type": "code",
   "execution_count": 7,
   "metadata": {},
   "outputs": [
    {
     "data": {
      "text/plain": [
       "ASIN                     0\n",
       "Domain                   0\n",
       "ExcludeTerm              0\n",
       "ExclusionInProduct       0\n",
       "IngredientInProduct      0\n",
       "Keyword                  0\n",
       "KeywordDept              0\n",
       "MatchTerm                0\n",
       "ProductDescription       0\n",
       "ProductDirections        0\n",
       "ProductFlavor            0\n",
       "ProductIngredientList    0\n",
       "ProductLegal             0\n",
       "ProductLink              0\n",
       "ProductName              0\n",
       "ProductRatings           0\n",
       "ProductSafety            0\n",
       "ProductStar              0\n",
       "ProductSummary           0\n",
       "RetrievedTime            0\n",
       "ReviewsLink              0\n",
       "UPC                      0\n",
       "RetrivedTime             0\n",
       "Category                 0\n",
       "dtype: int64"
      ]
     },
     "execution_count": 7,
     "metadata": {},
     "output_type": "execute_result"
    }
   ],
   "source": [
    "cleaned_desc_df.isnull().sum()"
   ]
  },
  {
   "cell_type": "markdown",
   "metadata": {},
   "source": [
    "## Cleaning Review File"
   ]
  },
  {
   "cell_type": "code",
   "execution_count": 8,
   "metadata": {},
   "outputs": [
    {
     "name": "stdout",
     "output_type": "stream",
     "text": [
      "Series([], dtype: object)\n"
     ]
    }
   ],
   "source": [
    "# Create instance of CleanReviewFile\n",
    "crf = CleanReviewFile(check_ASIN = True)\n",
    "\n",
    "# Check for invalid ASIN if any\n",
    "invalid_ASIN = crf.check_ASIN_validity(review_df)"
   ]
  },
  {
   "cell_type": "code",
   "execution_count": 9,
   "metadata": {
    "scrolled": true
   },
   "outputs": [],
   "source": [
    "# trnsform raw review_df to cleaned_review_df with additional feature 'ProcessedText'\n",
    "cleaned_review_df = crf.transform(review_df)"
   ]
  },
  {
   "cell_type": "code",
   "execution_count": 10,
   "metadata": {},
   "outputs": [
    {
     "data": {
      "text/plain": [
       "0       go start review tell recover addict alcoholic ...\n",
       "1       wanna cry even tell u much help use benzoyl pe...\n",
       "2       take daily year positive impact overall mood j...\n",
       "3       wait week post make sure though saw improvemen...\n",
       "4       product life saver since break prescription cy...\n",
       "                              ...                        \n",
       "3150    exactly need brand guarantee potency take edge...\n",
       "3151                               perfect help attention\n",
       "3152    like burt be products pricey mainly healthy in...\n",
       "3153        take three months still feel effect relax say\n",
       "3154    best st johns wort oil beat second best long d...\n",
       "Name: ProcessedText, Length: 3155, dtype: object"
      ]
     },
     "execution_count": 10,
     "metadata": {},
     "output_type": "execute_result"
    }
   ],
   "source": [
    "cleaned_review_df.ProcessedText"
   ]
  },
  {
   "cell_type": "code",
   "execution_count": null,
   "metadata": {},
   "outputs": [],
   "source": []
  }
 ],
 "metadata": {
  "kernelspec": {
   "display_name": "Python 3",
   "language": "python",
   "name": "python3"
  },
  "language_info": {
   "codemirror_mode": {
    "name": "ipython",
    "version": 3
   },
   "file_extension": ".py",
   "mimetype": "text/x-python",
   "name": "python",
   "nbconvert_exporter": "python",
   "pygments_lexer": "ipython3",
   "version": "3.7.6"
  }
 },
 "nbformat": 4,
 "nbformat_minor": 4
}
